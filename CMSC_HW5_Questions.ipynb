{
  "nbformat": 4,
  "nbformat_minor": 0,
  "metadata": {
    "colab": {
      "provenance": []
    },
    "kernelspec": {
      "name": "python3",
      "display_name": "Python 3"
    },
    "language_info": {
      "name": "python"
    }
  },
  "cells": [
    {
      "cell_type": "markdown",
      "source": [
        "## Homework 5 Questions\n",
        "\n",
        "Same drill as Homework 3, the following questions are intended to get you familiarized with the [provided dataset](https://docs.google.com/spreadsheets/d/1tcqGAlaBOd9L9Lhb9u9_nUg9dSRY1usF80l2RNKiQN0/edit?usp=sharing). By answering these questions, it will hopefully give insights on how to complete the actual task (slide deck generation for the CEO).\n",
        "\n",
        "Please answer each of the questions below in the space provided. Copy the noteook, and when you're done, submit as an ipynb file. This will be graded on correctness. Please comment your code to help the grader figure out what you're doing. If you do a hypothesis test, please report all relevant p-values in the text field."
      ],
      "metadata": {
        "id": "fxezJKkMTtJS"
      }
    },
    {
      "cell_type": "markdown",
      "source": [
        "Imports and data loading:"
      ],
      "metadata": {
        "id": "eZm4jwhCU9xX"
      }
    },
    {
      "cell_type": "code",
      "execution_count": 1,
      "metadata": {
        "id": "qnHUFnHVTlqX",
        "colab": {
          "base_uri": "https://localhost:8080/"
        },
        "outputId": "4efc56dd-d1b4-4e76-d6b4-079280613f6c"
      },
      "outputs": [
        {
          "output_type": "stream",
          "name": "stdout",
          "text": [
            "Mounted at /content/drive\n"
          ]
        }
      ],
      "source": [
        "from google.colab import drive\n",
        "drive.mount('/content/drive')"
      ]
    },
    {
      "cell_type": "code",
      "source": [
        "import pandas as pd\n",
        "import os\n",
        "import numpy as np\n",
        "from matplotlib import pyplot as plt\n",
        "from sklearn.linear_model import LinearRegression\n",
        "from sklearn.ensemble import RandomForestRegressor\n",
        "import pprint\n",
        "import scipy as scipy"
      ],
      "metadata": {
        "id": "DSfDaIKrXX5s"
      },
      "execution_count": 2,
      "outputs": []
    },
    {
      "cell_type": "code",
      "source": [
        "path = \"./drive/MyDrive/cmsc320/HW5/GPA_Dataset.csv\"\n",
        "df = pd.read_csv(path)"
      ],
      "metadata": {
        "id": "QneB7rw2XhAC"
      },
      "execution_count": 3,
      "outputs": []
    },
    {
      "cell_type": "markdown",
      "source": [
        "Data cleaning:"
      ],
      "metadata": {
        "id": "r_RhtN5jU_hQ"
      }
    },
    {
      "cell_type": "markdown",
      "source": [
        "1. Which was the most predictive factor for GPA? i.e., which factor had the most \"power\" over predicting the GPA?"
      ],
      "metadata": {
        "id": "PKPy8qvbVBDe"
      }
    },
    {
      "cell_type": "markdown",
      "source": [
        "Your answer:"
      ],
      "metadata": {
        "id": "0te8wMswVImy"
      }
    },
    {
      "cell_type": "code",
      "source": [
        "# numericals:\n",
        "# [\"At what age did you start programming?\", \"How many credits did you take last semester?\", \"What is your average screentime?\", \"What is your average daily time on Tik Tok or Tik Tok equivalents?\", \"How many hours of sleep do you get a night?\"]\n",
        "target = \"What was your GPA LAST SEMESTER?\"\n",
        "\n",
        "numericals = [\"At what age did you start programming?\", \"How many credits did you take last semester?\", \"What is your average screentime?\", \"What is your average daily time on Tik Tok or Tik Tok equivalents?\", \"How many hours of sleep do you get a night?\", \"What was your GPA THE SEMESTER BEFORE THAT?\" ]\n",
        "categoricals = list(set(list(df.columns[:-2]) + list([df.columns[-1]])) - set(numericals))\n",
        "\n",
        "print(\"R^2 values after running Random Forest Regression trying to predict GPA last semester using some other feature\\n-------------------------------------------------------------------------------------------------------\")\n",
        "print(\"%-80s:\\tR^2\"%\"column\")\n",
        "print()\n",
        "for i, lab in enumerate(numericals):\n",
        "  null_filter1 = df[lab].isnull()\n",
        "  filter = np.logical_not(np.logical_or(null_filter, null_filter1))\n",
        "  gpa_target = df[target][filter].to_list()\n",
        "  X = np.array(df[lab][filter].to_list()).reshape(-1,1)\n",
        "  reg = RandomForestRegressor(max_depth=2, random_state=0).fit(X, gpa_target)\n",
        "  print(\"%-80s:\\t %f\"%(lab, reg.score(X, gpa_target)))\n",
        "\n",
        "for i, lab in enumerate(categoricals):\n",
        "  null_filter1 = df[lab].isnull()\n",
        "  filter = np.logical_not(np.logical_or(null_filter, null_filter1))\n",
        "  gpa_target = df[target][filter].to_list()\n",
        "  X = np.array(pd.get_dummies(df[lab][filter]))\n",
        "  reg = RandomForestRegressor(max_depth=2, random_state=0).fit(X, gpa_target)\n",
        "  print(\"%-80s:\\t %f\"%(lab, reg.score(X, gpa_target)))\n",
        "\n",
        "print(\"\\n\\nAs can be seen, the strongest predictor of the GPA last semester was the GPA 2 semesters prior.\\nWith an R^2 value of 0.643, it had the highest R^2 score out of any of the other features\")"
      ],
      "metadata": {
        "colab": {
          "base_uri": "https://localhost:8080/"
        },
        "id": "YIeGCETCmn_k",
        "outputId": "e732b882-c52e-47c8-a84e-7338fe0c7b58"
      },
      "execution_count": null,
      "outputs": [
        {
          "output_type": "stream",
          "name": "stdout",
          "text": [
            "R^2 values after running Random Forest Regression trying to predict GPA last semester using some other feature\n",
            "-------------------------------------------------------------------------------------------------------\n",
            "column                                                                          :\tR^2\n",
            "\n",
            "At what age did you start programming?                                          :\t 0.103036\n",
            "How many credits did you take last semester?                                    :\t 0.076171\n",
            "What is your average screentime?                                                :\t 0.172657\n",
            "What is your average daily time on Tik Tok or Tik Tok equivalents?              :\t 0.039582\n",
            "How many hours of sleep do you get a night?                                     :\t 0.088473\n",
            "What was your GPA THE SEMESTER BEFORE THAT?                                     :\t 0.642563\n",
            "Do you take notes in classes?                                                   :\t 0.079039\n",
            "Timestamp                                                                       :\t 0.230091\n",
            "Have you at any point attended private school?                                  :\t 0.014665\n",
            "Do you have a parent in tech?                                                   :\t 0.031907\n",
            "Do you have a scholarship?                                                      :\t 0.084870\n",
            "Do you study with friends?                                                      :\t 0.016244\n",
            "Major (Check all that apply)                                                    :\t 0.118004\n",
            "What state are you from?                                                        :\t 0.119848\n",
            "\n",
            "\n",
            "As can be seen, the strongest predictor of the GPA last semester was the GPA 2 semesters prior.\n",
            "With an R^2 value of 0.643, it had the highest R^2 score out of any of the other features\n"
          ]
        }
      ]
    },
    {
      "cell_type": "markdown",
      "source": [
        "2. Which factor(s) didn't matter in predicting the GPA?"
      ],
      "metadata": {
        "id": "s4gfMw7XVUOP"
      }
    },
    {
      "cell_type": "markdown",
      "source": [
        "Your answer:"
      ],
      "metadata": {
        "id": "RgYQ_JZ6VUOP"
      }
    },
    {
      "cell_type": "code",
      "source": [
        "print(\"Using the same table above, the feature that had the lowest R^2 score when predicting GPA last semester was whether the participant had attended private school.\\nThat is, the \\\"Have you at any point attended private schoo?\\\" column had the lowest R^2 when the Random Forest regression was ran on it\\ncompared to the other factors\")"
      ],
      "metadata": {
        "colab": {
          "base_uri": "https://localhost:8080/"
        },
        "id": "JIC-KhPEtvWh",
        "outputId": "dd389629-6f32-4329-9c56-984a3c02d1ec"
      },
      "execution_count": null,
      "outputs": [
        {
          "output_type": "stream",
          "name": "stdout",
          "text": [
            "Using the same table above, the feature that had the lowest R^2 score when predicting GPA last semester was whether the participant had attended private school.\n",
            "That is, the \"Have you at any point attended private schoo?\" column had the lowest R^2 when the Random Forest regression was ran on it\n",
            "compared to the other factors\n"
          ]
        }
      ]
    },
    {
      "cell_type": "markdown",
      "source": [
        "3. Besides the GPA information, which two questions had the highest correlation?"
      ],
      "metadata": {
        "id": "itfurVmjVUwh"
      }
    },
    {
      "cell_type": "markdown",
      "source": [
        "Your answer:"
      ],
      "metadata": {
        "id": "Hsab2cOJVUwi"
      }
    },
    {
      "cell_type": "code",
      "source": [
        "numericals = [\"At what age did you start programming?\", \"How many credits did you take last semester?\", \"What is your average screentime?\", \"What is your average daily time on Tik Tok or Tik Tok equivalents?\", \"How many hours of sleep do you get a night?\", \"What was your GPA THE SEMESTER BEFORE THAT?\"]\n",
        "categoricals = list(set(list(df.columns[:-2]) + list([df.columns[-1]])) - set(numericals))\n",
        "\n",
        "nice_display = lambda y: lambda x: x[:x.find(\".\")] + x[x.find(\".\"):x.find(\".\")+y]\n",
        "nice_display = nice_display(4)\n",
        "corrs = []\n",
        "\n",
        "print(\"Correlations of each pair of columns. Numerical to Numerical uses pearson correlation coefficient and Categorical to Categorical uses Cramer.\\nCategorical to Numerical doesn't make sense so it's not considered\\n\\n\")\n",
        "\n",
        "print(\"Correlation of Numericals:\\n\\n\")\n",
        "for i, lab1 in enumerate(numericals[:-1]):\n",
        "  print(\"correlation of %-60s AND:\\n------------------------\"%(\"\\\"\"+lab1+\"\\\"\"))\n",
        "  for j, lab2 in enumerate(numericals):\n",
        "    if j <= i:\n",
        "      continue\n",
        "    null_filter1 = df[lab1].isnull()\n",
        "    null_filter2 = df[lab2].isnull()\n",
        "    filter = np.logical_not(np.logical_or(null_filter1, null_filter2))\n",
        "    corr = np.corrcoef(np.array(df[lab1][filter]), np.array(df[lab2][filter]))[0,1]\n",
        "    corrs.append(corr)\n",
        "    print(\"%-70s\\t:%13s\"%(\"\\\"\"+lab2+\"\\\"\", nice_display(str(corr))))\n",
        "  print()\n",
        "\n",
        "def make_confusion_matrix(df, col1, col2, filter):\n",
        "  c1 = df[col1][filter].astype(str)\n",
        "  c2 = df[col2][filter].astype(str)\n",
        "  vals1 = np.unique(c1)\n",
        "  vals2 = np.unique(c2)\n",
        "  conf = np.zeros((len(vals1), len(vals2)))\n",
        "  for i, v1 in enumerate(vals1):\n",
        "    for j, v2 in enumerate(vals2):\n",
        "      conf[i,j] = np.sum(np.logical_and(np.array(c1 == v1), np.array(c2 == v2)))\n",
        "\n",
        "  return conf+1\n",
        "\n",
        "\n",
        "print(\"\\nCorrelation of Categoricals:\\n\\n\")\n",
        "for i, lab1 in enumerate(categoricals[:-1]):\n",
        "  print(\"correlation of %-60s AND:\\n------------------------\"%(\"\\\"\" + lab1 + \"\\\"\"))\n",
        "  for j, lab2 in enumerate(categoricals):\n",
        "    if j <= i:\n",
        "      continue\n",
        "    null_filter1 = df[lab1].isnull()\n",
        "    null_filter2 = df[lab2].isnull()\n",
        "    filter = np.logical_not(np.logical_or(null_filter1, null_filter2))\n",
        "    conf_matrix = make_confusion_matrix(df, lab1, lab2, filter)\n",
        "    if 0 in conf_matrix:\n",
        "      continue\n",
        "    r,c = conf_matrix.shape\n",
        "    sum1 = scipy.stats.chi2_contingency(conf_matrix).statistic\n",
        "    corr = np.sqrt(((sum1)/(r*c))/min(r-1,c-1))\n",
        "    corrs.append(corr)\n",
        "    print(\"%-70s\\t:%13s\"%(\"\\\"\"+lab2+\"\\\"\", nice_display(str(corr))))\n",
        "  print()\n",
        "\n",
        "print(\"\\n*Note that it doesn't make sense to compute the correlation between categorical data and numerical data.\\nFrom the table, we can see that the most correlated questions were studying with friends and attending private school\\nThat is, the correlation of \\\"Have you at any point attended private school?\\\" and \\\"Do you study with friends?\\\" had the highest correlation at %f\"%(max(corrs)))\n",
        "\n",
        "    # corr = np.corrcoef(np.array(df[lab1][filter]), np.array(df[lab2][filter]))[0,1]\n",
        "    # print(\"\\\"%-70s\\\"\\t:%13s\"%(lab2, nice_display(str(corr))))\n",
        "\n",
        "# chi-squared - categorical to categorical\n",
        "# - Cramer V\n",
        "# correlation - numerical to numrerical\n",
        "# ANOVA - categorical to numerical"
      ],
      "metadata": {
        "id": "SgLEm7YeVVrX",
        "colab": {
          "base_uri": "https://localhost:8080/"
        },
        "outputId": "338c5975-6520-4c79-b9bf-63e80041653e"
      },
      "execution_count": null,
      "outputs": [
        {
          "output_type": "stream",
          "name": "stdout",
          "text": [
            "Correlations of each pair of columns. Numerical to Numerical uses pearson correlation coefficient and Categorical to Categorical uses Cramer.\n",
            "Categorical to Numerical doesn't make sense so it's not considered\n",
            "\n",
            "\n",
            "Correlation of Numericals:\n",
            "\n",
            "\n",
            "correlation of \"At what age did you start programming?\"                     AND:\n",
            "------------------------\n",
            "\"How many credits did you take last semester?\"                        \t:       -0.260\n",
            "\"What is your average screentime?\"                                    \t:       -0.060\n",
            "\"What is your average daily time on Tik Tok or Tik Tok equivalents?\"  \t:        0.027\n",
            "\"How many hours of sleep do you get a night?\"                         \t:       -0.119\n",
            "\"What was your GPA THE SEMESTER BEFORE THAT?\"                         \t:       -0.218\n",
            "\n",
            "correlation of \"How many credits did you take last semester?\"               AND:\n",
            "------------------------\n",
            "\"What is your average screentime?\"                                    \t:        0.016\n",
            "\"What is your average daily time on Tik Tok or Tik Tok equivalents?\"  \t:       -0.018\n",
            "\"How many hours of sleep do you get a night?\"                         \t:        0.062\n",
            "\"What was your GPA THE SEMESTER BEFORE THAT?\"                         \t:        0.135\n",
            "\n",
            "correlation of \"What is your average screentime?\"                           AND:\n",
            "------------------------\n",
            "\"What is your average daily time on Tik Tok or Tik Tok equivalents?\"  \t:        0.722\n",
            "\"How many hours of sleep do you get a night?\"                         \t:       -0.018\n",
            "\"What was your GPA THE SEMESTER BEFORE THAT?\"                         \t:        0.063\n",
            "\n",
            "correlation of \"What is your average daily time on Tik Tok or Tik Tok equivalents?\" AND:\n",
            "------------------------\n",
            "\"How many hours of sleep do you get a night?\"                         \t:       -0.102\n",
            "\"What was your GPA THE SEMESTER BEFORE THAT?\"                         \t:        0.085\n",
            "\n",
            "correlation of \"How many hours of sleep do you get a night?\"                AND:\n",
            "------------------------\n",
            "\"What was your GPA THE SEMESTER BEFORE THAT?\"                         \t:        0.287\n",
            "\n",
            "\n",
            "Correlation of Categoricals:\n",
            "\n",
            "\n",
            "correlation of \"Do you take notes in classes?\"                              AND:\n",
            "------------------------\n",
            "\"Timestamp\"                                                           \t:        0.214\n",
            "\"Have you at any point attended private school?\"                      \t:        0.475\n",
            "\"Do you have a parent in tech?\"                                       \t:        0.281\n",
            "\"Do you have a scholarship?\"                                          \t:        0.438\n",
            "\"Do you study with friends?\"                                          \t:        0.381\n",
            "\"Major (Check all that apply)\"                                        \t:        0.346\n",
            "\"What state are you from?\"                                            \t:        0.384\n",
            "\n",
            "correlation of \"Timestamp\"                                                  AND:\n",
            "------------------------\n",
            "\"Have you at any point attended private school?\"                      \t:        0.351\n",
            "\"Do you have a parent in tech?\"                                       \t:        0.274\n",
            "\"Do you have a scholarship?\"                                          \t:        0.328\n",
            "\"Do you study with friends?\"                                          \t:        0.265\n",
            "\"Major (Check all that apply)\"                                        \t:        0.099\n",
            "\"What state are you from?\"                                            \t:        0.080\n",
            "\n",
            "correlation of \"Have you at any point attended private school?\"             AND:\n",
            "------------------------\n",
            "\"Do you have a parent in tech?\"                                       \t:        0.470\n",
            "\"Do you have a scholarship?\"                                          \t:        0.125\n",
            "\"Do you study with friends?\"                                          \t:        0.753\n",
            "\"Major (Check all that apply)\"                                        \t:        0.518\n",
            "\"What state are you from?\"                                            \t:        0.618\n",
            "\n",
            "correlation of \"Do you have a parent in tech?\"                              AND:\n",
            "------------------------\n",
            "\"Do you have a scholarship?\"                                          \t:        0.458\n",
            "\"Do you study with friends?\"                                          \t:        0.457\n",
            "\"Major (Check all that apply)\"                                        \t:        0.491\n",
            "\"What state are you from?\"                                            \t:        0.586\n",
            "\n",
            "correlation of \"Do you have a scholarship?\"                                 AND:\n",
            "------------------------\n",
            "\"Do you study with friends?\"                                          \t:        0.590\n",
            "\"Major (Check all that apply)\"                                        \t:        0.198\n",
            "\"What state are you from?\"                                            \t:        0.343\n",
            "\n",
            "correlation of \"Do you study with friends?\"                                 AND:\n",
            "------------------------\n",
            "\"Major (Check all that apply)\"                                        \t:        0.471\n",
            "\"What state are you from?\"                                            \t:        0.387\n",
            "\n",
            "correlation of \"Major (Check all that apply)\"                               AND:\n",
            "------------------------\n",
            "\"What state are you from?\"                                            \t:        0.246\n",
            "\n",
            "\n",
            "*Note that it doesn't make sense to compute the correlation between categorical data and numerical data.\n",
            "From the table, we can see that the most correlated questions were studying with friends and attending private school\n",
            "That is, the correlation of \"Have you at any point attended private school?\" and \"Do you study with friends?\" had the highest correlation at 0.753615\n"
          ]
        }
      ]
    },
    {
      "cell_type": "markdown",
      "source": [
        "4. Which one had more impact on students' quality of sleep, the amount of screen time or course load?"
      ],
      "metadata": {
        "id": "-BqivuyCVYJ_"
      }
    },
    {
      "cell_type": "markdown",
      "source": [
        "Your answer:"
      ],
      "metadata": {
        "id": "HghwQDbCVYKA"
      }
    },
    {
      "cell_type": "code",
      "source": [
        "# numericals:\n",
        "# [\"At what age did you start programming?\", \"How many credits did you take last semester?\", \"What is your average screentime?\", \"What is your average daily time on Tik Tok or Tik Tok equivalents?\", \"How many hours of sleep do you get a night?\"]\n",
        "target = \"How many hours of sleep do you get a night?\"\n",
        "\n",
        "cols = [\"What is your average screentime?\", \"How many credits did you take last semester?\"]\n",
        "\n",
        "print(\"R^2 values after running Random Forest Regression trying to predict sleep using screen time vs using credits\\n-------------------------------------------------------------------------------------------------------\")\n",
        "print(\"%-80s:\\tR^2\"%\"column\")\n",
        "print()\n",
        "for i, lab in enumerate(cols):\n",
        "  null_filter1 = df[lab].isnull()\n",
        "  filter = np.logical_not(np.logical_or(null_filter, null_filter1))\n",
        "  gpa_target = df[target][filter].to_list()\n",
        "  X = np.array(df[lab][filter].to_list()).reshape(-1,1)\n",
        "  reg = RandomForestRegressor(max_depth=2, random_state=0).fit(X, gpa_target)\n",
        "  print(\"%-80s:\\t %f\"%(lab, reg.score(X, gpa_target)))\n",
        "\n",
        "# for i, lab in enumerate(categoricals):\n",
        "#   null_filter1 = df[lab].isnull()\n",
        "#   filter = np.logical_not(np.logical_or(null_filter, null_filter1))\n",
        "#   gpa_target = df[target][filter].to_list()\n",
        "#   X = np.array(pd.get_dummies(df[lab][filter]))\n",
        "#   reg = RandomForestRegressor(max_depth=2, random_state=0).fit(X, gpa_target)\n",
        "#   print(\"%-80s:\\t %f\"%(lab, reg.score(X, gpa_target)))\n",
        "\n",
        "print(\"\\n\\nAs can be seen, screentime is a stronger predictor of sleep than course load because its R^2 value after running a \\nRandom Forest Regression is higher. Predicting sleep with screentime has an R^2 value is 0.21 as opposed to 0.12 for course load\")"
      ],
      "metadata": {
        "colab": {
          "base_uri": "https://localhost:8080/"
        },
        "id": "Nf0kv3QH9PBG",
        "outputId": "3f1a04bc-fe38-4610-cb5e-b78be9be4c5e"
      },
      "execution_count": null,
      "outputs": [
        {
          "output_type": "stream",
          "name": "stdout",
          "text": [
            "R^2 values after running Random Forest Regression trying to predict sleep using screen time vs using credits\n",
            "-------------------------------------------------------------------------------------------------------\n",
            "column                                                                          :\tR^2\n",
            "\n",
            "What is your average screentime?                                                :\t 0.210990\n",
            "How many credits did you take last semester?                                    :\t 0.120267\n",
            "\n",
            "\n",
            "As can be seen, screentime is a stronger predictor of sleep than course load because its R^2 value after running a \n",
            "Random Forest Regression is higher. Predicting sleep with screentime has an R^2 value is 0.21 as opposed to 0.12 for course load\n"
          ]
        }
      ]
    },
    {
      "cell_type": "markdown",
      "source": [
        "5. Does having a parent (or more) in tech have impact on the starting age for programming?"
      ],
      "metadata": {
        "id": "ZdyGPBmjVZn_"
      }
    },
    {
      "cell_type": "markdown",
      "source": [
        "Your answer:"
      ],
      "metadata": {
        "id": "8fRCQaAfVZoA"
      }
    },
    {
      "cell_type": "code",
      "source": [
        "def make_confusion_matrix(df, col1, col2, filter):\n",
        "  c1 = df[col1][filter].astype(str)\n",
        "  c2 = df[col2][filter].astype(str)\n",
        "  vals1 = np.unique(c1)\n",
        "  vals2 = np.unique(c2)\n",
        "  conf = np.zeros((len(vals1), len(vals2)))\n",
        "  for i, v1 in enumerate(vals1):\n",
        "    for j, v2 in enumerate(vals2):\n",
        "      conf[i,j] = np.sum(np.logical_and(np.array(c1 == v1), np.array(c2 == v2)))\n",
        "\n",
        "  return conf+1\n",
        "\n",
        "lab1 = \"Do you have a parent in tech?\"\n",
        "lab2 = \"At what age did you start programming?\"\n",
        "df.loc[:, lab1] = df[lab1].apply(lambda x: 0 if x == \"No parents\" else 1)\n",
        "\n",
        "null_filter = df[lab1].isnull()\n",
        "null_filter1 = df[lab2].isnull()\n",
        "filter = np.logical_not(np.logical_or(null_filter, null_filter1))\n",
        "\n",
        "conf_matrix = make_confusion_matrix(df, lab1, lab2, filter)\n",
        "test_stat, p_val, dof, expected_freq = scipy.stats.chi2_contingency(conf_matrix)\n",
        "\n",
        "print(\"Test:\\nNull:\\t\\tparent in tech and programming start are independent\\nAlternate:\\tparent in tech and programming start are NOT independent, reject Null if p-val < 0.06\")\n",
        "print(\"------------------------------------------------------\\n\")\n",
        "print(\"p-value: %f\"%(p_val))\n",
        "print(\"Since the p-value is not <0.06, the null is NOT rejected, and so the age of programming and whether a parent is in tech are indpendent factors\")\n",
        "df = pd.read_csv(path)"
      ],
      "metadata": {
        "colab": {
          "base_uri": "https://localhost:8080/"
        },
        "id": "svfvkSrw_CBe",
        "outputId": "d9198774-cc73-4bd6-8a07-80e4d49470ac"
      },
      "execution_count": 32,
      "outputs": [
        {
          "output_type": "stream",
          "name": "stdout",
          "text": [
            "Test:\n",
            "Null:\t\tparent in tech and programming start are independent\n",
            "Alternate:\tparent in tech and programming start are NOT independent, reject Null if p-val < 0.06\n",
            "------------------------------------------------------\n",
            "\n",
            "p-value: 0.764372\n",
            "Since the p-value is not <0.06, the null is NOT rejected, and so the age of programming and whether a parent is in tech are indpendent factors\n"
          ]
        }
      ]
    },
    {
      "cell_type": "markdown",
      "source": [
        "6. Assume that the students who gave response to this survey have a consistent studying habit. Based on that assumption, does studying with friends help with grades? What about note taking?\n",
        "\n"
      ],
      "metadata": {
        "id": "myaC0x74Va9H"
      }
    },
    {
      "cell_type": "markdown",
      "source": [
        "Your answer:"
      ],
      "metadata": {
        "id": "G-kuL8URVa9I"
      }
    },
    {
      "cell_type": "code",
      "source": [
        "def make_confusion_matrix(df, col1, col2, filter):\n",
        "  c1 = df[col1][filter].astype(str)\n",
        "  c2 = df[col2][filter].astype(str)\n",
        "  vals1 = np.unique(c1)\n",
        "  vals2 = np.unique(c2)\n",
        "  conf = np.zeros((len(vals1), len(vals2)))\n",
        "  for i, v1 in enumerate(vals1):\n",
        "    for j, v2 in enumerate(vals2):\n",
        "      conf[i,j] = np.sum(np.logical_and(np.array(c1 == v1), np.array(c2 == v2)))\n",
        "\n",
        "  return conf+1\n",
        "\n",
        "target_lab = \"What was your GPA LAST SEMESTER?\"\n",
        "labs = [\"Do you study with friends?\", \"Do you study with friends?\"]\n",
        "\n",
        "null_filter = df[target_lab].isnull()\n",
        "null_filter1 = df[labs[0]].isnull()\n",
        "filter = np.logical_not(np.logical_or(null_filter, null_filter1))\n",
        "conf_matrix = make_confusion_matrix(df, labs[0], target_lab, filter)\n",
        "test_stat, p_val0, dof, expected_freq = scipy.stats.chi2_contingency(conf_matrix)\n",
        "\n",
        "null_filter = df[target_lab].isnull()\n",
        "null_filter1 = df[labs[1]].isnull()\n",
        "filter = np.logical_not(np.logical_or(null_filter, null_filter1))\n",
        "conf_matrix = make_confusion_matrix(df, labs[1], target_lab, filter)\n",
        "test_stat, p_val1, dof, expected_freq = scipy.stats.chi2_contingency(conf_matrix)\n",
        "\n",
        "print(\"Test:\\nNull:\\t\\tstudying with friends/note-taking and grades are independent\\nAlternate:\\tstudying with friends/note-taking and grades are NOT independent, reject Null if p-val < 0.06\")\n",
        "print(\"------------------------------------------------------\\n\")\n",
        "print(\"p-value for studying with friends: %f\"%(p_val0))\n",
        "print(\"p-value for taking notes in class: %f\"%(p_val1))\n",
        "print(\"from the p-values, we have that studying with friends is independent of grades, and note-taking and grades ARE dependent\")\n",
        "df = pd.read_csv(path)"
      ],
      "metadata": {
        "colab": {
          "base_uri": "https://localhost:8080/"
        },
        "id": "XuOvgnLVDk4j",
        "outputId": "27674e26-5d82-4405-d04d-c5df0b093f62"
      },
      "execution_count": 33,
      "outputs": [
        {
          "output_type": "stream",
          "name": "stdout",
          "text": [
            "Test:\n",
            "Null:\t\tstudying with friends/note-taking and grades are independent\n",
            "Alternate:\tstudying with friends/note-taking and grades are NOT independent, reject Null if p-val < 0.06\n",
            "------------------------------------------------------\n",
            "\n",
            "p-value for studying with friends: 0.548900\n",
            "p-value for taking notes in class: 0.049890\n",
            "from the p-values, we have that studying with friends is independent of grades, and note-taking and grades ARE dependent\n"
          ]
        }
      ]
    }
  ]
}